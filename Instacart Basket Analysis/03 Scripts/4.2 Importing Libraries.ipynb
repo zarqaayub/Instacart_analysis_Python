{
 "cells": [
  {
   "cell_type": "markdown",
   "id": "b3177172",
   "metadata": {},
   "source": [
    "# Import Libraries\n"
   ]
  },
  {
   "cell_type": "code",
   "execution_count": 1,
   "id": "5e7da477",
   "metadata": {},
   "outputs": [],
   "source": [
    "# Import libraries\n",
    "import pandas as pd\n",
    "import numpy as np\n",
    "import os"
   ]
  },
  {
   "cell_type": "code",
   "execution_count": 2,
   "id": "be001c32",
   "metadata": {},
   "outputs": [],
   "source": [
    "x = 100"
   ]
  },
  {
   "cell_type": "code",
   "execution_count": 3,
   "id": "5ad79531",
   "metadata": {},
   "outputs": [
    {
     "data": {
      "text/plain": [
       "100"
      ]
     },
     "execution_count": 3,
     "metadata": {},
     "output_type": "execute_result"
    }
   ],
   "source": [
    "x"
   ]
  },
  {
   "cell_type": "code",
   "execution_count": 4,
   "id": "02827edc",
   "metadata": {},
   "outputs": [
    {
     "name": "stdout",
     "output_type": "stream",
     "text": [
      "100\n"
     ]
    }
   ],
   "source": [
    "print(x)"
   ]
  },
  {
   "cell_type": "code",
   "execution_count": 6,
   "id": "8f90ef72",
   "metadata": {},
   "outputs": [],
   "source": [
    "x = 90"
   ]
  },
  {
   "cell_type": "code",
   "execution_count": 7,
   "id": "ea1214e5",
   "metadata": {},
   "outputs": [],
   "source": [
    "y = 10"
   ]
  },
  {
   "cell_type": "code",
   "execution_count": 8,
   "id": "79a16b60",
   "metadata": {},
   "outputs": [
    {
     "data": {
      "text/plain": [
       "100"
      ]
     },
     "execution_count": 8,
     "metadata": {},
     "output_type": "execute_result"
    }
   ],
   "source": [
    "x + y"
   ]
  },
  {
   "cell_type": "code",
   "execution_count": 9,
   "id": "0fb81b94",
   "metadata": {},
   "outputs": [],
   "source": [
    "x = 'Hi '"
   ]
  },
  {
   "cell_type": "code",
   "execution_count": 10,
   "id": "abb98420",
   "metadata": {},
   "outputs": [],
   "source": [
    "y = 'Georgi.'"
   ]
  },
  {
   "cell_type": "code",
   "execution_count": 11,
   "id": "36e50df6",
   "metadata": {},
   "outputs": [
    {
     "data": {
      "text/plain": [
       "'Hi Georgi.'"
      ]
     },
     "execution_count": 11,
     "metadata": {},
     "output_type": "execute_result"
    }
   ],
   "source": [
    "x + y "
   ]
  },
  {
   "cell_type": "code",
   "execution_count": 12,
   "id": "1c4b473f",
   "metadata": {},
   "outputs": [],
   "source": [
    "x = 'Learning Python is fun.'"
   ]
  },
  {
   "cell_type": "code",
   "execution_count": 13,
   "id": "70061e2b",
   "metadata": {},
   "outputs": [],
   "source": [
    "y = 'Looking forward to learn more.'"
   ]
  },
  {
   "cell_type": "code",
   "execution_count": 14,
   "id": "7ad91bfe",
   "metadata": {},
   "outputs": [
    {
     "data": {
      "text/plain": [
       "'Learning Python is fun.Looking forward to learn more.'"
      ]
     },
     "execution_count": 14,
     "metadata": {},
     "output_type": "execute_result"
    }
   ],
   "source": [
    "x + y "
   ]
  },
  {
   "cell_type": "code",
   "execution_count": 15,
   "id": "8cb7cf32",
   "metadata": {},
   "outputs": [],
   "source": [
    "x = 9.667"
   ]
  },
  {
   "cell_type": "code",
   "execution_count": 16,
   "id": "478bab04",
   "metadata": {},
   "outputs": [],
   "source": [
    "y = 3.2"
   ]
  },
  {
   "cell_type": "code",
   "execution_count": 18,
   "id": "df240a0d",
   "metadata": {},
   "outputs": [
    {
     "data": {
      "text/plain": [
       "3.0209374999999996"
      ]
     },
     "execution_count": 18,
     "metadata": {},
     "output_type": "execute_result"
    }
   ],
   "source": [
    "x / y "
   ]
  },
  {
   "cell_type": "code",
   "execution_count": null,
   "id": "c1c3f9c6",
   "metadata": {},
   "outputs": [],
   "source": []
  }
 ],
 "metadata": {
  "kernelspec": {
   "display_name": "Python 3 (ipykernel)",
   "language": "python",
   "name": "python3"
  },
  "language_info": {
   "codemirror_mode": {
    "name": "ipython",
    "version": 3
   },
   "file_extension": ".py",
   "mimetype": "text/x-python",
   "name": "python",
   "nbconvert_exporter": "python",
   "pygments_lexer": "ipython3",
   "version": "3.11.5"
  }
 },
 "nbformat": 4,
 "nbformat_minor": 5
}
